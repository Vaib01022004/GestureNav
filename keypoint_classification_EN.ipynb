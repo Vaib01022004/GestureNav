{
  "cells": [
    {
      "cell_type": "code",
      "execution_count": 13,
      "metadata": {
        "id": "igMyGnjE9hEp"
      },
      "outputs": [],
      "source": [
        "import csv\n",
        "\n",
        "import numpy as np\n",
        "import tensorflow as tf\n",
        "from sklearn.model_selection import train_test_split\n",
        "\n",
        "RANDOM_SEED = 42"
      ]
    },
    {
      "cell_type": "markdown",
      "metadata": {
        "id": "t2HDvhIu9hEr"
      },
      "source": [
        "# Specify each path"
      ]
    },
    {
      "cell_type": "code",
      "execution_count": 14,
      "metadata": {
        "id": "9NvZP2Zn9hEy"
      },
      "outputs": [],
      "source": [
        "dataset = 'model/keypoint_classifier/keypoint.csv'\n",
        "model_save_path = 'model/keypoint_classifier/keypoint_classifier.hdf5'\n",
        "tflite_save_path = 'model/keypoint_classifier/keypoint_classifier.tflite'"
      ]
    },
    {
      "cell_type": "markdown",
      "metadata": {
        "id": "s5oMH7x19hEz"
      },
      "source": [
        "# Set number of classes"
      ]
    },
    {
      "cell_type": "code",
      "execution_count": 15,
      "metadata": {
        "id": "du4kodXL9hEz"
      },
      "outputs": [],
      "source": [
        "NUM_CLASSES = 7"
      ]
    },
    {
      "cell_type": "markdown",
      "metadata": {
        "id": "XjnL0uso9hEz"
      },
      "source": [
        "# Dataset reading"
      ]
    },
    {
      "cell_type": "code",
      "execution_count": 16,
      "metadata": {
        "id": "QT5ZqtEz9hE0"
      },
      "outputs": [],
      "source": [
        "X_dataset = np.loadtxt(dataset, delimiter=',', dtype='float32', usecols=list(range(1, (21 * 2) + 1)))"
      ]
    },
    {
      "cell_type": "code",
      "execution_count": 6,
      "metadata": {
        "id": "QmoKFsp49hE0"
      },
      "outputs": [],
      "source": [
        "y_dataset = np.loadtxt(dataset, delimiter=',', dtype='int32', usecols=(0))"
      ]
    },
    {
      "cell_type": "code",
      "execution_count": 17,
      "metadata": {
        "id": "xQU7JTZ_9hE0"
      },
      "outputs": [],
      "source": [
        "X_train, X_test, y_train, y_test = train_test_split(X_dataset, y_dataset, train_size=0.75, random_state=RANDOM_SEED)"
      ]
    },
    {
      "cell_type": "markdown",
      "metadata": {
        "id": "mxK_lETT9hE0"
      },
      "source": [
        "# Model building"
      ]
    },
    {
      "cell_type": "code",
      "execution_count": 18,
      "metadata": {
        "id": "vHBmUf1t9hE1"
      },
      "outputs": [],
      "source": [
        "model = tf.keras.models.Sequential([\n",
        "    tf.keras.layers.Input((21 * 2, )),\n",
        "    tf.keras.layers.Dropout(0.2),\n",
        "    tf.keras.layers.Dense(20, activation='relu'),\n",
        "    tf.keras.layers.Dropout(0.4),\n",
        "    tf.keras.layers.Dense(10, activation='relu'),\n",
        "    tf.keras.layers.Dense(NUM_CLASSES, activation='softmax')\n",
        "])"
      ]
    },
    {
      "cell_type": "code",
      "execution_count": 19,
      "metadata": {
        "colab": {
          "base_uri": "https://localhost:8080/"
        },
        "id": "ypqky9tc9hE1",
        "outputId": "5db082bb-30e3-4110-bf63-a1ee777ecd46"
      },
      "outputs": [
        {
          "data": {
            "text/html": [
              "<pre style=\"white-space:pre;overflow-x:auto;line-height:normal;font-family:Menlo,'DejaVu Sans Mono',consolas,'Courier New',monospace\"><span style=\"font-weight: bold\">Model: \"sequential_1\"</span>\n",
              "</pre>\n"
            ],
            "text/plain": [
              "\u001b[1mModel: \"sequential_1\"\u001b[0m\n"
            ]
          },
          "metadata": {},
          "output_type": "display_data"
        },
        {
          "data": {
            "text/html": [
              "<pre style=\"white-space:pre;overflow-x:auto;line-height:normal;font-family:Menlo,'DejaVu Sans Mono',consolas,'Courier New',monospace\">┏━━━━━━━━━━━━━━━━━━━━━━━━━━━━━━━━━┳━━━━━━━━━━━━━━━━━━━━━━━━┳━━━━━━━━━━━━━━━┓\n",
              "┃<span style=\"font-weight: bold\"> Layer (type)                    </span>┃<span style=\"font-weight: bold\"> Output Shape           </span>┃<span style=\"font-weight: bold\">       Param # </span>┃\n",
              "┡━━━━━━━━━━━━━━━━━━━━━━━━━━━━━━━━━╇━━━━━━━━━━━━━━━━━━━━━━━━╇━━━━━━━━━━━━━━━┩\n",
              "│ dropout_2 (<span style=\"color: #0087ff; text-decoration-color: #0087ff\">Dropout</span>)             │ (<span style=\"color: #00d7ff; text-decoration-color: #00d7ff\">None</span>, <span style=\"color: #00af00; text-decoration-color: #00af00\">42</span>)             │             <span style=\"color: #00af00; text-decoration-color: #00af00\">0</span> │\n",
              "├─────────────────────────────────┼────────────────────────┼───────────────┤\n",
              "│ dense_3 (<span style=\"color: #0087ff; text-decoration-color: #0087ff\">Dense</span>)                 │ (<span style=\"color: #00d7ff; text-decoration-color: #00d7ff\">None</span>, <span style=\"color: #00af00; text-decoration-color: #00af00\">20</span>)             │           <span style=\"color: #00af00; text-decoration-color: #00af00\">860</span> │\n",
              "├─────────────────────────────────┼────────────────────────┼───────────────┤\n",
              "│ dropout_3 (<span style=\"color: #0087ff; text-decoration-color: #0087ff\">Dropout</span>)             │ (<span style=\"color: #00d7ff; text-decoration-color: #00d7ff\">None</span>, <span style=\"color: #00af00; text-decoration-color: #00af00\">20</span>)             │             <span style=\"color: #00af00; text-decoration-color: #00af00\">0</span> │\n",
              "├─────────────────────────────────┼────────────────────────┼───────────────┤\n",
              "│ dense_4 (<span style=\"color: #0087ff; text-decoration-color: #0087ff\">Dense</span>)                 │ (<span style=\"color: #00d7ff; text-decoration-color: #00d7ff\">None</span>, <span style=\"color: #00af00; text-decoration-color: #00af00\">10</span>)             │           <span style=\"color: #00af00; text-decoration-color: #00af00\">210</span> │\n",
              "├─────────────────────────────────┼────────────────────────┼───────────────┤\n",
              "│ dense_5 (<span style=\"color: #0087ff; text-decoration-color: #0087ff\">Dense</span>)                 │ (<span style=\"color: #00d7ff; text-decoration-color: #00d7ff\">None</span>, <span style=\"color: #00af00; text-decoration-color: #00af00\">7</span>)              │            <span style=\"color: #00af00; text-decoration-color: #00af00\">77</span> │\n",
              "└─────────────────────────────────┴────────────────────────┴───────────────┘\n",
              "</pre>\n"
            ],
            "text/plain": [
              "┏━━━━━━━━━━━━━━━━━━━━━━━━━━━━━━━━━┳━━━━━━━━━━━━━━━━━━━━━━━━┳━━━━━━━━━━━━━━━┓\n",
              "┃\u001b[1m \u001b[0m\u001b[1mLayer (type)                   \u001b[0m\u001b[1m \u001b[0m┃\u001b[1m \u001b[0m\u001b[1mOutput Shape          \u001b[0m\u001b[1m \u001b[0m┃\u001b[1m \u001b[0m\u001b[1m      Param #\u001b[0m\u001b[1m \u001b[0m┃\n",
              "┡━━━━━━━━━━━━━━━━━━━━━━━━━━━━━━━━━╇━━━━━━━━━━━━━━━━━━━━━━━━╇━━━━━━━━━━━━━━━┩\n",
              "│ dropout_2 (\u001b[38;5;33mDropout\u001b[0m)             │ (\u001b[38;5;45mNone\u001b[0m, \u001b[38;5;34m42\u001b[0m)             │             \u001b[38;5;34m0\u001b[0m │\n",
              "├─────────────────────────────────┼────────────────────────┼───────────────┤\n",
              "│ dense_3 (\u001b[38;5;33mDense\u001b[0m)                 │ (\u001b[38;5;45mNone\u001b[0m, \u001b[38;5;34m20\u001b[0m)             │           \u001b[38;5;34m860\u001b[0m │\n",
              "├─────────────────────────────────┼────────────────────────┼───────────────┤\n",
              "│ dropout_3 (\u001b[38;5;33mDropout\u001b[0m)             │ (\u001b[38;5;45mNone\u001b[0m, \u001b[38;5;34m20\u001b[0m)             │             \u001b[38;5;34m0\u001b[0m │\n",
              "├─────────────────────────────────┼────────────────────────┼───────────────┤\n",
              "│ dense_4 (\u001b[38;5;33mDense\u001b[0m)                 │ (\u001b[38;5;45mNone\u001b[0m, \u001b[38;5;34m10\u001b[0m)             │           \u001b[38;5;34m210\u001b[0m │\n",
              "├─────────────────────────────────┼────────────────────────┼───────────────┤\n",
              "│ dense_5 (\u001b[38;5;33mDense\u001b[0m)                 │ (\u001b[38;5;45mNone\u001b[0m, \u001b[38;5;34m7\u001b[0m)              │            \u001b[38;5;34m77\u001b[0m │\n",
              "└─────────────────────────────────┴────────────────────────┴───────────────┘\n"
            ]
          },
          "metadata": {},
          "output_type": "display_data"
        },
        {
          "data": {
            "text/html": [
              "<pre style=\"white-space:pre;overflow-x:auto;line-height:normal;font-family:Menlo,'DejaVu Sans Mono',consolas,'Courier New',monospace\"><span style=\"font-weight: bold\"> Total params: </span><span style=\"color: #00af00; text-decoration-color: #00af00\">1,147</span> (4.48 KB)\n",
              "</pre>\n"
            ],
            "text/plain": [
              "\u001b[1m Total params: \u001b[0m\u001b[38;5;34m1,147\u001b[0m (4.48 KB)\n"
            ]
          },
          "metadata": {},
          "output_type": "display_data"
        },
        {
          "data": {
            "text/html": [
              "<pre style=\"white-space:pre;overflow-x:auto;line-height:normal;font-family:Menlo,'DejaVu Sans Mono',consolas,'Courier New',monospace\"><span style=\"font-weight: bold\"> Trainable params: </span><span style=\"color: #00af00; text-decoration-color: #00af00\">1,147</span> (4.48 KB)\n",
              "</pre>\n"
            ],
            "text/plain": [
              "\u001b[1m Trainable params: \u001b[0m\u001b[38;5;34m1,147\u001b[0m (4.48 KB)\n"
            ]
          },
          "metadata": {},
          "output_type": "display_data"
        },
        {
          "data": {
            "text/html": [
              "<pre style=\"white-space:pre;overflow-x:auto;line-height:normal;font-family:Menlo,'DejaVu Sans Mono',consolas,'Courier New',monospace\"><span style=\"font-weight: bold\"> Non-trainable params: </span><span style=\"color: #00af00; text-decoration-color: #00af00\">0</span> (0.00 B)\n",
              "</pre>\n"
            ],
            "text/plain": [
              "\u001b[1m Non-trainable params: \u001b[0m\u001b[38;5;34m0\u001b[0m (0.00 B)\n"
            ]
          },
          "metadata": {},
          "output_type": "display_data"
        }
      ],
      "source": [
        "model.summary()  # tf.keras.utils.plot_model(model, show_shapes=True)"
      ]
    },
    {
      "cell_type": "code",
      "execution_count": 20,
      "metadata": {
        "id": "MbMjOflQ9hE1"
      },
      "outputs": [
        {
          "ename": "ValueError",
          "evalue": "The filepath provided must end in `.keras` (Keras model format). Received: filepath=model/keypoint_classifier/keypoint_classifier.hdf5",
          "output_type": "error",
          "traceback": [
            "\u001b[1;31m---------------------------------------------------------------------------\u001b[0m",
            "\u001b[1;31mValueError\u001b[0m                                Traceback (most recent call last)",
            "Cell \u001b[1;32mIn[20], line 2\u001b[0m\n\u001b[0;32m      1\u001b[0m \u001b[38;5;66;03m# Model checkpoint callback\u001b[39;00m\n\u001b[1;32m----> 2\u001b[0m cp_callback \u001b[38;5;241m=\u001b[39m \u001b[43mtf\u001b[49m\u001b[38;5;241;43m.\u001b[39;49m\u001b[43mkeras\u001b[49m\u001b[38;5;241;43m.\u001b[39;49m\u001b[43mcallbacks\u001b[49m\u001b[38;5;241;43m.\u001b[39;49m\u001b[43mModelCheckpoint\u001b[49m\u001b[43m(\u001b[49m\n\u001b[0;32m      3\u001b[0m \u001b[43m    \u001b[49m\u001b[43mmodel_save_path\u001b[49m\u001b[43m,\u001b[49m\u001b[43m \u001b[49m\u001b[43mverbose\u001b[49m\u001b[38;5;241;43m=\u001b[39;49m\u001b[38;5;241;43m1\u001b[39;49m\u001b[43m,\u001b[49m\u001b[43m \u001b[49m\u001b[43msave_weights_only\u001b[49m\u001b[38;5;241;43m=\u001b[39;49m\u001b[38;5;28;43;01mFalse\u001b[39;49;00m\u001b[43m)\u001b[49m\n\u001b[0;32m      4\u001b[0m \u001b[38;5;66;03m# Callback for early stopping\u001b[39;00m\n\u001b[0;32m      5\u001b[0m es_callback \u001b[38;5;241m=\u001b[39m tf\u001b[38;5;241m.\u001b[39mkeras\u001b[38;5;241m.\u001b[39mcallbacks\u001b[38;5;241m.\u001b[39mEarlyStopping(patience\u001b[38;5;241m=\u001b[39m\u001b[38;5;241m20\u001b[39m, verbose\u001b[38;5;241m=\u001b[39m\u001b[38;5;241m1\u001b[39m)\n",
            "File \u001b[1;32mc:\\Users\\VENKATESH\\AppData\\Local\\Programs\\Python\\Python311\\Lib\\site-packages\\keras\\src\\callbacks\\model_checkpoint.py:191\u001b[0m, in \u001b[0;36mModelCheckpoint.__init__\u001b[1;34m(self, filepath, monitor, verbose, save_best_only, save_weights_only, mode, save_freq, initial_value_threshold)\u001b[0m\n\u001b[0;32m    189\u001b[0m \u001b[38;5;28;01melse\u001b[39;00m:\n\u001b[0;32m    190\u001b[0m     \u001b[38;5;28;01mif\u001b[39;00m \u001b[38;5;129;01mnot\u001b[39;00m \u001b[38;5;28mself\u001b[39m\u001b[38;5;241m.\u001b[39mfilepath\u001b[38;5;241m.\u001b[39mendswith(\u001b[38;5;124m\"\u001b[39m\u001b[38;5;124m.keras\u001b[39m\u001b[38;5;124m\"\u001b[39m):\n\u001b[1;32m--> 191\u001b[0m         \u001b[38;5;28;01mraise\u001b[39;00m \u001b[38;5;167;01mValueError\u001b[39;00m(\n\u001b[0;32m    192\u001b[0m             \u001b[38;5;124m\"\u001b[39m\u001b[38;5;124mThe filepath provided must end in `.keras` \u001b[39m\u001b[38;5;124m\"\u001b[39m\n\u001b[0;32m    193\u001b[0m             \u001b[38;5;124m\"\u001b[39m\u001b[38;5;124m(Keras model format). Received: \u001b[39m\u001b[38;5;124m\"\u001b[39m\n\u001b[0;32m    194\u001b[0m             \u001b[38;5;124mf\u001b[39m\u001b[38;5;124m\"\u001b[39m\u001b[38;5;124mfilepath=\u001b[39m\u001b[38;5;132;01m{\u001b[39;00m\u001b[38;5;28mself\u001b[39m\u001b[38;5;241m.\u001b[39mfilepath\u001b[38;5;132;01m}\u001b[39;00m\u001b[38;5;124m\"\u001b[39m\n\u001b[0;32m    195\u001b[0m         )\n",
            "\u001b[1;31mValueError\u001b[0m: The filepath provided must end in `.keras` (Keras model format). Received: filepath=model/keypoint_classifier/keypoint_classifier.hdf5"
          ]
        }
      ],
      "source": [
        "# Model checkpoint callback\n",
        "cp_callback = tf.keras.callbacks.ModelCheckpoint(\n",
        "    model_save_path, verbose=1, save_weights_only=False)\n",
        "# Callback for early stopping\n",
        "es_callback = tf.keras.callbacks.EarlyStopping(patience=20, verbose=1)"
      ]
    },
    {
      "cell_type": "code",
      "execution_count": 33,
      "metadata": {
        "id": "c3Dac0M_9hE2"
      },
      "outputs": [],
      "source": [
        "# Model compilation\n",
        "model.compile(\n",
        "    optimizer='adam',\n",
        "    loss='sparse_categorical_crossentropy',\n",
        "    metrics=['accuracy']\n",
        ")"
      ]
    },
    {
      "cell_type": "markdown",
      "metadata": {
        "id": "7XI0j1Iu9hE2"
      },
      "source": [
        "# Model training"
      ]
    },
    {
      "cell_type": "code",
      "execution_count": 34,
      "metadata": {
        "colab": {
          "base_uri": "https://localhost:8080/"
        },
        "id": "WirBl-JE9hE3",
        "outputId": "71b30ca2-8294-4d9d-8aa2-800d90d399de",
        "scrolled": true
      },
      "outputs": [
        {
          "name": "stdout",
          "output_type": "stream",
          "text": [
            "Epoch 1/1000\n",
            "26/32 [=======================>......] - ETA: 0s - loss: 1.6382 - accuracy: 0.2046\n",
            "Epoch 1: saving model to model/keypoint_classifier\\keypoint_classifier.hdf5\n",
            "32/32 [==============================] - 2s 17ms/step - loss: 1.6221 - accuracy: 0.2179 - val_loss: 1.4931 - val_accuracy: 0.3326\n",
            "Epoch 2/1000\n",
            "29/32 [==========================>...] - ETA: 0s - loss: 1.4944 - accuracy: 0.3020"
          ]
        },
        {
          "name": "stderr",
          "output_type": "stream",
          "text": [
            "c:\\Users\\LENOVO\\AppData\\Local\\Programs\\Python\\Python39\\lib\\site-packages\\keras\\src\\engine\\training.py:3103: UserWarning: You are saving your model as an HDF5 file via `model.save()`. This file format is considered legacy. We recommend using instead the native Keras format, e.g. `model.save('my_model.keras')`.\n",
            "  saving_api.save_model(\n"
          ]
        },
        {
          "name": "stdout",
          "output_type": "stream",
          "text": [
            "\n",
            "Epoch 2: saving model to model/keypoint_classifier\\keypoint_classifier.hdf5\n",
            "32/32 [==============================] - 0s 8ms/step - loss: 1.4915 - accuracy: 0.3041 - val_loss: 1.4107 - val_accuracy: 0.3570\n",
            "Epoch 3/1000\n",
            "30/32 [===========================>..] - ETA: 0s - loss: 1.4252 - accuracy: 0.3518\n",
            "Epoch 3: saving model to model/keypoint_classifier\\keypoint_classifier.hdf5\n",
            "32/32 [==============================] - 0s 7ms/step - loss: 1.4269 - accuracy: 0.3505 - val_loss: 1.3349 - val_accuracy: 0.4163\n",
            "Epoch 4/1000\n",
            "30/32 [===========================>..] - ETA: 0s - loss: 1.3788 - accuracy: 0.3544\n",
            "Epoch 4: saving model to model/keypoint_classifier\\keypoint_classifier.hdf5\n",
            "32/32 [==============================] - 0s 7ms/step - loss: 1.3786 - accuracy: 0.3542 - val_loss: 1.2689 - val_accuracy: 0.4689\n",
            "Epoch 5/1000\n",
            "31/32 [============================>.] - ETA: 0s - loss: 1.3266 - accuracy: 0.3896\n",
            "Epoch 5: saving model to model/keypoint_classifier\\keypoint_classifier.hdf5\n",
            "32/32 [==============================] - 0s 8ms/step - loss: 1.3268 - accuracy: 0.3916 - val_loss: 1.1970 - val_accuracy: 0.4911\n",
            "Epoch 6/1000\n",
            "28/32 [=========================>....] - ETA: 0s - loss: 1.2774 - accuracy: 0.4277\n",
            "Epoch 6: saving model to model/keypoint_classifier\\keypoint_classifier.hdf5\n",
            "32/32 [==============================] - 0s 11ms/step - loss: 1.2766 - accuracy: 0.4227 - val_loss: 1.1310 - val_accuracy: 0.5548\n",
            "Epoch 7/1000\n",
            "32/32 [==============================] - ETA: 0s - loss: 1.2298 - accuracy: 0.4506\n",
            "Epoch 7: saving model to model/keypoint_classifier\\keypoint_classifier.hdf5\n",
            "32/32 [==============================] - 1s 20ms/step - loss: 1.2298 - accuracy: 0.4506 - val_loss: 1.0693 - val_accuracy: 0.6230\n",
            "Epoch 8/1000\n",
            "32/32 [==============================] - ETA: 0s - loss: 1.1882 - accuracy: 0.4560\n",
            "Epoch 8: saving model to model/keypoint_classifier\\keypoint_classifier.hdf5\n",
            "32/32 [==============================] - 0s 8ms/step - loss: 1.1882 - accuracy: 0.4560 - val_loss: 0.9994 - val_accuracy: 0.6911\n",
            "Epoch 9/1000\n",
            "23/32 [====================>.........] - ETA: 0s - loss: 1.1483 - accuracy: 0.4847\n",
            "Epoch 9: saving model to model/keypoint_classifier\\keypoint_classifier.hdf5\n",
            "32/32 [==============================] - 0s 8ms/step - loss: 1.1371 - accuracy: 0.4956 - val_loss: 0.9354 - val_accuracy: 0.7067\n",
            "Epoch 10/1000\n",
            "30/32 [===========================>..] - ETA: 0s - loss: 1.1062 - accuracy: 0.5055\n",
            "Epoch 10: saving model to model/keypoint_classifier\\keypoint_classifier.hdf5\n",
            "32/32 [==============================] - 0s 7ms/step - loss: 1.1040 - accuracy: 0.5062 - val_loss: 0.8745 - val_accuracy: 0.7222\n",
            "Epoch 11/1000\n",
            "28/32 [=========================>....] - ETA: 0s - loss: 1.0487 - accuracy: 0.5405\n",
            "Epoch 11: saving model to model/keypoint_classifier\\keypoint_classifier.hdf5\n",
            "32/32 [==============================] - 0s 14ms/step - loss: 1.0471 - accuracy: 0.5422 - val_loss: 0.8117 - val_accuracy: 0.7600\n",
            "Epoch 12/1000\n",
            "28/32 [=========================>....] - ETA: 0s - loss: 1.0386 - accuracy: 0.5329\n",
            "Epoch 12: saving model to model/keypoint_classifier\\keypoint_classifier.hdf5\n",
            "32/32 [==============================] - 0s 7ms/step - loss: 1.0351 - accuracy: 0.5385 - val_loss: 0.7646 - val_accuracy: 0.8015\n",
            "Epoch 13/1000\n",
            "31/32 [============================>.] - ETA: 0s - loss: 1.0153 - accuracy: 0.5617\n",
            "Epoch 13: saving model to model/keypoint_classifier\\keypoint_classifier.hdf5\n",
            "32/32 [==============================] - 0s 7ms/step - loss: 1.0149 - accuracy: 0.5615 - val_loss: 0.7271 - val_accuracy: 0.8104\n",
            "Epoch 14/1000\n",
            "30/32 [===========================>..] - ETA: 0s - loss: 0.9691 - accuracy: 0.5745\n",
            "Epoch 14: saving model to model/keypoint_classifier\\keypoint_classifier.hdf5\n",
            "32/32 [==============================] - 0s 7ms/step - loss: 0.9681 - accuracy: 0.5729 - val_loss: 0.6802 - val_accuracy: 0.8222\n",
            "Epoch 15/1000\n",
            "31/32 [============================>.] - ETA: 0s - loss: 0.9540 - accuracy: 0.5789\n",
            "Epoch 15: saving model to model/keypoint_classifier\\keypoint_classifier.hdf5\n",
            "32/32 [==============================] - 0s 7ms/step - loss: 0.9554 - accuracy: 0.5793 - val_loss: 0.6499 - val_accuracy: 0.8259\n",
            "Epoch 16/1000\n",
            "31/32 [============================>.] - ETA: 0s - loss: 0.9201 - accuracy: 0.6064\n",
            "Epoch 16: saving model to model/keypoint_classifier\\keypoint_classifier.hdf5\n",
            "32/32 [==============================] - 0s 7ms/step - loss: 0.9222 - accuracy: 0.6052 - val_loss: 0.6192 - val_accuracy: 0.8481\n",
            "Epoch 17/1000\n",
            "17/32 [==============>...............] - ETA: 0s - loss: 0.8915 - accuracy: 0.6291\n",
            "Epoch 17: saving model to model/keypoint_classifier\\keypoint_classifier.hdf5\n",
            "32/32 [==============================] - 0s 7ms/step - loss: 0.8909 - accuracy: 0.6240 - val_loss: 0.5831 - val_accuracy: 0.8422\n",
            "Epoch 18/1000\n",
            "31/32 [============================>.] - ETA: 0s - loss: 0.8935 - accuracy: 0.6227\n",
            "Epoch 18: saving model to model/keypoint_classifier\\keypoint_classifier.hdf5\n",
            "32/32 [==============================] - 0s 7ms/step - loss: 0.8915 - accuracy: 0.6228 - val_loss: 0.5652 - val_accuracy: 0.8570\n",
            "Epoch 19/1000\n",
            "32/32 [==============================] - ETA: 0s - loss: 0.8591 - accuracy: 0.6418\n",
            "Epoch 19: saving model to model/keypoint_classifier\\keypoint_classifier.hdf5\n",
            "32/32 [==============================] - 0s 7ms/step - loss: 0.8591 - accuracy: 0.6418 - val_loss: 0.5378 - val_accuracy: 0.8748\n",
            "Epoch 20/1000\n",
            "31/32 [============================>.] - ETA: 0s - loss: 0.8340 - accuracy: 0.6575\n",
            "Epoch 20: saving model to model/keypoint_classifier\\keypoint_classifier.hdf5\n",
            "32/32 [==============================] - 0s 7ms/step - loss: 0.8343 - accuracy: 0.6569 - val_loss: 0.5137 - val_accuracy: 0.8756\n",
            "Epoch 21/1000\n",
            "31/32 [============================>.] - ETA: 0s - loss: 0.8240 - accuracy: 0.6608\n",
            "Epoch 21: saving model to model/keypoint_classifier\\keypoint_classifier.hdf5\n",
            "32/32 [==============================] - 0s 7ms/step - loss: 0.8228 - accuracy: 0.6618 - val_loss: 0.4961 - val_accuracy: 0.8756\n",
            "Epoch 22/1000\n",
            "31/32 [============================>.] - ETA: 0s - loss: 0.8089 - accuracy: 0.6706\n",
            "Epoch 22: saving model to model/keypoint_classifier\\keypoint_classifier.hdf5\n",
            "32/32 [==============================] - 0s 7ms/step - loss: 0.8117 - accuracy: 0.6687 - val_loss: 0.4827 - val_accuracy: 0.8926\n",
            "Epoch 23/1000\n",
            "31/32 [============================>.] - ETA: 0s - loss: 0.8182 - accuracy: 0.6631\n",
            "Epoch 23: saving model to model/keypoint_classifier\\keypoint_classifier.hdf5\n",
            "32/32 [==============================] - 0s 7ms/step - loss: 0.8175 - accuracy: 0.6640 - val_loss: 0.4660 - val_accuracy: 0.9089\n",
            "Epoch 24/1000\n",
            "24/32 [=====================>........] - ETA: 0s - loss: 0.7862 - accuracy: 0.6816\n",
            "Epoch 24: saving model to model/keypoint_classifier\\keypoint_classifier.hdf5\n",
            "32/32 [==============================] - 0s 9ms/step - loss: 0.7849 - accuracy: 0.6843 - val_loss: 0.4519 - val_accuracy: 0.9067\n",
            "Epoch 25/1000\n",
            "32/32 [==============================] - ETA: 0s - loss: 0.7862 - accuracy: 0.6751\n",
            "Epoch 25: saving model to model/keypoint_classifier\\keypoint_classifier.hdf5\n",
            "32/32 [==============================] - 0s 11ms/step - loss: 0.7862 - accuracy: 0.6751 - val_loss: 0.4397 - val_accuracy: 0.9141\n",
            "Epoch 26/1000\n",
            "32/32 [==============================] - ETA: 0s - loss: 0.7560 - accuracy: 0.6934\n",
            "Epoch 26: saving model to model/keypoint_classifier\\keypoint_classifier.hdf5\n",
            "32/32 [==============================] - 0s 7ms/step - loss: 0.7560 - accuracy: 0.6934 - val_loss: 0.4260 - val_accuracy: 0.9104\n",
            "Epoch 27/1000\n",
            "32/32 [==============================] - ETA: 0s - loss: 0.7638 - accuracy: 0.6939\n",
            "Epoch 27: saving model to model/keypoint_classifier\\keypoint_classifier.hdf5\n",
            "32/32 [==============================] - 0s 7ms/step - loss: 0.7638 - accuracy: 0.6939 - val_loss: 0.4188 - val_accuracy: 0.9193\n",
            "Epoch 28/1000\n",
            "31/32 [============================>.] - ETA: 0s - loss: 0.7421 - accuracy: 0.7089\n",
            "Epoch 28: saving model to model/keypoint_classifier\\keypoint_classifier.hdf5\n",
            "32/32 [==============================] - 0s 7ms/step - loss: 0.7410 - accuracy: 0.7090 - val_loss: 0.4099 - val_accuracy: 0.9148\n",
            "Epoch 29/1000\n",
            "32/32 [==============================] - ETA: 0s - loss: 0.7345 - accuracy: 0.7169\n",
            "Epoch 29: saving model to model/keypoint_classifier\\keypoint_classifier.hdf5\n",
            "32/32 [==============================] - 0s 7ms/step - loss: 0.7345 - accuracy: 0.7169 - val_loss: 0.3974 - val_accuracy: 0.9193\n",
            "Epoch 30/1000\n",
            "32/32 [==============================] - ETA: 0s - loss: 0.7346 - accuracy: 0.7092\n",
            "Epoch 30: saving model to model/keypoint_classifier\\keypoint_classifier.hdf5\n",
            "32/32 [==============================] - 0s 7ms/step - loss: 0.7346 - accuracy: 0.7092 - val_loss: 0.3936 - val_accuracy: 0.9148\n",
            "Epoch 31/1000\n",
            "32/32 [==============================] - ETA: 0s - loss: 0.7257 - accuracy: 0.7115\n",
            "Epoch 31: saving model to model/keypoint_classifier\\keypoint_classifier.hdf5\n",
            "32/32 [==============================] - 0s 7ms/step - loss: 0.7257 - accuracy: 0.7115 - val_loss: 0.3786 - val_accuracy: 0.9222\n",
            "Epoch 32/1000\n",
            "32/32 [==============================] - ETA: 0s - loss: 0.7068 - accuracy: 0.7201\n",
            "Epoch 32: saving model to model/keypoint_classifier\\keypoint_classifier.hdf5\n",
            "32/32 [==============================] - 0s 7ms/step - loss: 0.7068 - accuracy: 0.7201 - val_loss: 0.3716 - val_accuracy: 0.9222\n",
            "Epoch 33/1000\n",
            "32/32 [==============================] - ETA: 0s - loss: 0.6945 - accuracy: 0.7342\n",
            "Epoch 33: saving model to model/keypoint_classifier\\keypoint_classifier.hdf5\n",
            "32/32 [==============================] - 0s 8ms/step - loss: 0.6945 - accuracy: 0.7342 - val_loss: 0.3582 - val_accuracy: 0.9281\n",
            "Epoch 34/1000\n",
            "24/32 [=====================>........] - ETA: 0s - loss: 0.7125 - accuracy: 0.7201\n",
            "Epoch 34: saving model to model/keypoint_classifier\\keypoint_classifier.hdf5\n",
            "32/32 [==============================] - 0s 11ms/step - loss: 0.7122 - accuracy: 0.7181 - val_loss: 0.3597 - val_accuracy: 0.9237\n",
            "Epoch 35/1000\n",
            "27/32 [========================>.....] - ETA: 0s - loss: 0.7003 - accuracy: 0.7274\n",
            "Epoch 35: saving model to model/keypoint_classifier\\keypoint_classifier.hdf5\n",
            "32/32 [==============================] - 0s 10ms/step - loss: 0.7023 - accuracy: 0.7265 - val_loss: 0.3492 - val_accuracy: 0.9281\n",
            "Epoch 36/1000\n",
            "22/32 [===================>..........] - ETA: 0s - loss: 0.7204 - accuracy: 0.7177\n",
            "Epoch 36: saving model to model/keypoint_classifier\\keypoint_classifier.hdf5\n",
            "32/32 [==============================] - 0s 10ms/step - loss: 0.7056 - accuracy: 0.7278 - val_loss: 0.3538 - val_accuracy: 0.9267\n",
            "Epoch 37/1000\n",
            "26/32 [=======================>......] - ETA: 0s - loss: 0.6888 - accuracy: 0.7353\n",
            "Epoch 37: saving model to model/keypoint_classifier\\keypoint_classifier.hdf5\n",
            "32/32 [==============================] - 0s 10ms/step - loss: 0.6886 - accuracy: 0.7352 - val_loss: 0.3416 - val_accuracy: 0.9319\n",
            "Epoch 38/1000\n",
            "28/32 [=========================>....] - ETA: 0s - loss: 0.6790 - accuracy: 0.7386\n",
            "Epoch 38: saving model to model/keypoint_classifier\\keypoint_classifier.hdf5\n",
            "32/32 [==============================] - 0s 10ms/step - loss: 0.6731 - accuracy: 0.7423 - val_loss: 0.3394 - val_accuracy: 0.9281\n",
            "Epoch 39/1000\n",
            "31/32 [============================>.] - ETA: 0s - loss: 0.6849 - accuracy: 0.7326\n",
            "Epoch 39: saving model to model/keypoint_classifier\\keypoint_classifier.hdf5\n",
            "32/32 [==============================] - 0s 8ms/step - loss: 0.6832 - accuracy: 0.7339 - val_loss: 0.3364 - val_accuracy: 0.9244\n",
            "Epoch 40/1000\n",
            "29/32 [==========================>...] - ETA: 0s - loss: 0.6731 - accuracy: 0.7443\n",
            "Epoch 40: saving model to model/keypoint_classifier\\keypoint_classifier.hdf5\n",
            "32/32 [==============================] - 0s 12ms/step - loss: 0.6701 - accuracy: 0.7463 - val_loss: 0.3288 - val_accuracy: 0.9341\n",
            "Epoch 41/1000\n",
            "22/32 [===================>..........] - ETA: 0s - loss: 0.6795 - accuracy: 0.7337\n",
            "Epoch 41: saving model to model/keypoint_classifier\\keypoint_classifier.hdf5\n",
            "32/32 [==============================] - 0s 11ms/step - loss: 0.6800 - accuracy: 0.7315 - val_loss: 0.3305 - val_accuracy: 0.9348\n",
            "Epoch 42/1000\n",
            "29/32 [==========================>...] - ETA: 0s - loss: 0.6636 - accuracy: 0.7460\n",
            "Epoch 42: saving model to model/keypoint_classifier\\keypoint_classifier.hdf5\n",
            "32/32 [==============================] - 0s 10ms/step - loss: 0.6656 - accuracy: 0.7438 - val_loss: 0.3208 - val_accuracy: 0.9326\n",
            "Epoch 43/1000\n",
            "27/32 [========================>.....] - ETA: 0s - loss: 0.6898 - accuracy: 0.7312\n",
            "Epoch 43: saving model to model/keypoint_classifier\\keypoint_classifier.hdf5\n",
            "32/32 [==============================] - 0s 10ms/step - loss: 0.6777 - accuracy: 0.7357 - val_loss: 0.3206 - val_accuracy: 0.9356\n",
            "Epoch 44/1000\n",
            "31/32 [============================>.] - ETA: 0s - loss: 0.6674 - accuracy: 0.7520\n",
            "Epoch 44: saving model to model/keypoint_classifier\\keypoint_classifier.hdf5\n",
            "32/32 [==============================] - 0s 8ms/step - loss: 0.6660 - accuracy: 0.7520 - val_loss: 0.3188 - val_accuracy: 0.9333\n",
            "Epoch 45/1000\n",
            "30/32 [===========================>..] - ETA: 0s - loss: 0.6408 - accuracy: 0.7523\n",
            "Epoch 45: saving model to model/keypoint_classifier\\keypoint_classifier.hdf5\n",
            "32/32 [==============================] - 0s 7ms/step - loss: 0.6403 - accuracy: 0.7505 - val_loss: 0.3083 - val_accuracy: 0.9356\n",
            "Epoch 46/1000\n",
            "16/32 [==============>...............] - ETA: 0s - loss: 0.6360 - accuracy: 0.7573\n",
            "Epoch 46: saving model to model/keypoint_classifier\\keypoint_classifier.hdf5\n",
            "32/32 [==============================] - 0s 6ms/step - loss: 0.6285 - accuracy: 0.7586 - val_loss: 0.3043 - val_accuracy: 0.9341\n",
            "Epoch 47/1000\n",
            "29/32 [==========================>...] - ETA: 0s - loss: 0.6368 - accuracy: 0.7592\n",
            "Epoch 47: saving model to model/keypoint_classifier\\keypoint_classifier.hdf5\n",
            "32/32 [==============================] - 0s 7ms/step - loss: 0.6390 - accuracy: 0.7599 - val_loss: 0.3022 - val_accuracy: 0.9319\n",
            "Epoch 48/1000\n",
            "29/32 [==========================>...] - ETA: 0s - loss: 0.6387 - accuracy: 0.7546\n",
            "Epoch 48: saving model to model/keypoint_classifier\\keypoint_classifier.hdf5\n",
            "32/32 [==============================] - 0s 7ms/step - loss: 0.6401 - accuracy: 0.7547 - val_loss: 0.2996 - val_accuracy: 0.9348\n",
            "Epoch 49/1000\n",
            "30/32 [===========================>..] - ETA: 0s - loss: 0.6249 - accuracy: 0.7583\n",
            "Epoch 49: saving model to model/keypoint_classifier\\keypoint_classifier.hdf5\n",
            "32/32 [==============================] - 0s 7ms/step - loss: 0.6271 - accuracy: 0.7579 - val_loss: 0.2996 - val_accuracy: 0.9326\n",
            "Epoch 50/1000\n",
            "31/32 [============================>.] - ETA: 0s - loss: 0.6431 - accuracy: 0.7477\n",
            "Epoch 50: saving model to model/keypoint_classifier\\keypoint_classifier.hdf5\n",
            "32/32 [==============================] - 0s 7ms/step - loss: 0.6437 - accuracy: 0.7473 - val_loss: 0.2997 - val_accuracy: 0.9326\n",
            "Epoch 51/1000\n",
            "16/32 [==============>...............] - ETA: 0s - loss: 0.6264 - accuracy: 0.7632\n",
            "Epoch 51: saving model to model/keypoint_classifier\\keypoint_classifier.hdf5\n",
            "32/32 [==============================] - 0s 8ms/step - loss: 0.6311 - accuracy: 0.7628 - val_loss: 0.2929 - val_accuracy: 0.9378\n",
            "Epoch 52/1000\n",
            "17/32 [==============>...............] - ETA: 0s - loss: 0.6297 - accuracy: 0.7555\n",
            "Epoch 52: saving model to model/keypoint_classifier\\keypoint_classifier.hdf5\n",
            "32/32 [==============================] - 0s 8ms/step - loss: 0.6252 - accuracy: 0.7525 - val_loss: 0.2910 - val_accuracy: 0.9415\n",
            "Epoch 53/1000\n",
            "32/32 [==============================] - ETA: 0s - loss: 0.6379 - accuracy: 0.7559\n",
            "Epoch 53: saving model to model/keypoint_classifier\\keypoint_classifier.hdf5\n",
            "32/32 [==============================] - 0s 7ms/step - loss: 0.6379 - accuracy: 0.7559 - val_loss: 0.2939 - val_accuracy: 0.9407\n",
            "Epoch 54/1000\n",
            "31/32 [============================>.] - ETA: 0s - loss: 0.6193 - accuracy: 0.7681\n",
            "Epoch 54: saving model to model/keypoint_classifier\\keypoint_classifier.hdf5\n",
            "32/32 [==============================] - 0s 7ms/step - loss: 0.6164 - accuracy: 0.7703 - val_loss: 0.2881 - val_accuracy: 0.9400\n",
            "Epoch 55/1000\n",
            "16/32 [==============>...............] - ETA: 0s - loss: 0.6229 - accuracy: 0.7524\n",
            "Epoch 55: saving model to model/keypoint_classifier\\keypoint_classifier.hdf5\n",
            "32/32 [==============================] - 0s 6ms/step - loss: 0.6271 - accuracy: 0.7579 - val_loss: 0.2881 - val_accuracy: 0.9370\n",
            "Epoch 56/1000\n",
            "32/32 [==============================] - ETA: 0s - loss: 0.6194 - accuracy: 0.7589\n",
            "Epoch 56: saving model to model/keypoint_classifier\\keypoint_classifier.hdf5\n",
            "32/32 [==============================] - 0s 7ms/step - loss: 0.6194 - accuracy: 0.7589 - val_loss: 0.2888 - val_accuracy: 0.9370\n",
            "Epoch 57/1000\n",
            "29/32 [==========================>...] - ETA: 0s - loss: 0.6267 - accuracy: 0.7643\n",
            "Epoch 57: saving model to model/keypoint_classifier\\keypoint_classifier.hdf5\n",
            "32/32 [==============================] - 0s 7ms/step - loss: 0.6184 - accuracy: 0.7656 - val_loss: 0.2810 - val_accuracy: 0.9422\n",
            "Epoch 58/1000\n",
            "30/32 [===========================>..] - ETA: 0s - loss: 0.6118 - accuracy: 0.7607\n",
            "Epoch 58: saving model to model/keypoint_classifier\\keypoint_classifier.hdf5\n",
            "32/32 [==============================] - 0s 7ms/step - loss: 0.6108 - accuracy: 0.7611 - val_loss: 0.2759 - val_accuracy: 0.9415\n",
            "Epoch 59/1000\n",
            "17/32 [==============>...............] - ETA: 0s - loss: 0.6168 - accuracy: 0.7642\n",
            "Epoch 59: saving model to model/keypoint_classifier\\keypoint_classifier.hdf5\n",
            "32/32 [==============================] - 0s 7ms/step - loss: 0.6174 - accuracy: 0.7584 - val_loss: 0.2778 - val_accuracy: 0.9385\n",
            "Epoch 60/1000\n",
            "25/32 [======================>.......] - ETA: 0s - loss: 0.6012 - accuracy: 0.7678\n",
            "Epoch 60: saving model to model/keypoint_classifier\\keypoint_classifier.hdf5\n",
            "32/32 [==============================] - 0s 8ms/step - loss: 0.6096 - accuracy: 0.7621 - val_loss: 0.2811 - val_accuracy: 0.9415\n",
            "Epoch 61/1000\n",
            "32/32 [==============================] - ETA: 0s - loss: 0.6052 - accuracy: 0.7720\n",
            "Epoch 61: saving model to model/keypoint_classifier\\keypoint_classifier.hdf5\n",
            "32/32 [==============================] - 0s 7ms/step - loss: 0.6052 - accuracy: 0.7720 - val_loss: 0.2830 - val_accuracy: 0.9348\n",
            "Epoch 62/1000\n",
            "30/32 [===========================>..] - ETA: 0s - loss: 0.6166 - accuracy: 0.7716\n",
            "Epoch 62: saving model to model/keypoint_classifier\\keypoint_classifier.hdf5\n",
            "32/32 [==============================] - 0s 8ms/step - loss: 0.6124 - accuracy: 0.7730 - val_loss: 0.2825 - val_accuracy: 0.9356\n",
            "Epoch 63/1000\n",
            "20/32 [=================>............] - ETA: 0s - loss: 0.5983 - accuracy: 0.7723\n",
            "Epoch 63: saving model to model/keypoint_classifier\\keypoint_classifier.hdf5\n",
            "32/32 [==============================] - 0s 10ms/step - loss: 0.6009 - accuracy: 0.7737 - val_loss: 0.2801 - val_accuracy: 0.9393\n",
            "Epoch 64/1000\n",
            "27/32 [========================>.....] - ETA: 0s - loss: 0.6027 - accuracy: 0.7665\n",
            "Epoch 64: saving model to model/keypoint_classifier\\keypoint_classifier.hdf5\n",
            "32/32 [==============================] - 0s 7ms/step - loss: 0.5995 - accuracy: 0.7693 - val_loss: 0.2739 - val_accuracy: 0.9437\n",
            "Epoch 65/1000\n",
            "31/32 [============================>.] - ETA: 0s - loss: 0.6069 - accuracy: 0.7714\n",
            "Epoch 65: saving model to model/keypoint_classifier\\keypoint_classifier.hdf5\n",
            "32/32 [==============================] - 0s 7ms/step - loss: 0.6066 - accuracy: 0.7712 - val_loss: 0.2709 - val_accuracy: 0.9452\n",
            "Epoch 66/1000\n",
            "32/32 [==============================] - ETA: 0s - loss: 0.6151 - accuracy: 0.7663\n",
            "Epoch 66: saving model to model/keypoint_classifier\\keypoint_classifier.hdf5\n",
            "32/32 [==============================] - 0s 7ms/step - loss: 0.6151 - accuracy: 0.7663 - val_loss: 0.2791 - val_accuracy: 0.9378\n",
            "Epoch 67/1000\n",
            "31/32 [============================>.] - ETA: 0s - loss: 0.5921 - accuracy: 0.7704\n",
            "Epoch 67: saving model to model/keypoint_classifier\\keypoint_classifier.hdf5\n",
            "32/32 [==============================] - 0s 7ms/step - loss: 0.5912 - accuracy: 0.7712 - val_loss: 0.2739 - val_accuracy: 0.9452\n",
            "Epoch 68/1000\n",
            "32/32 [==============================] - ETA: 0s - loss: 0.6043 - accuracy: 0.7678\n",
            "Epoch 68: saving model to model/keypoint_classifier\\keypoint_classifier.hdf5\n",
            "32/32 [==============================] - 0s 7ms/step - loss: 0.6043 - accuracy: 0.7678 - val_loss: 0.2724 - val_accuracy: 0.9400\n",
            "Epoch 69/1000\n",
            "31/32 [============================>.] - ETA: 0s - loss: 0.5995 - accuracy: 0.7765\n",
            "Epoch 69: saving model to model/keypoint_classifier\\keypoint_classifier.hdf5\n",
            "32/32 [==============================] - 0s 7ms/step - loss: 0.5975 - accuracy: 0.7769 - val_loss: 0.2696 - val_accuracy: 0.9444\n",
            "Epoch 70/1000\n",
            "30/32 [===========================>..] - ETA: 0s - loss: 0.6003 - accuracy: 0.7773\n",
            "Epoch 70: saving model to model/keypoint_classifier\\keypoint_classifier.hdf5\n",
            "32/32 [==============================] - 0s 7ms/step - loss: 0.6011 - accuracy: 0.7745 - val_loss: 0.2685 - val_accuracy: 0.9385\n",
            "Epoch 71/1000\n",
            "32/32 [==============================] - ETA: 0s - loss: 0.5812 - accuracy: 0.7717\n",
            "Epoch 71: saving model to model/keypoint_classifier\\keypoint_classifier.hdf5\n",
            "32/32 [==============================] - 0s 8ms/step - loss: 0.5812 - accuracy: 0.7717 - val_loss: 0.2664 - val_accuracy: 0.9400\n",
            "Epoch 72/1000\n",
            "20/32 [=================>............] - ETA: 0s - loss: 0.5795 - accuracy: 0.7809\n",
            "Epoch 72: saving model to model/keypoint_classifier\\keypoint_classifier.hdf5\n",
            "32/32 [==============================] - 0s 8ms/step - loss: 0.5752 - accuracy: 0.7866 - val_loss: 0.2653 - val_accuracy: 0.9385\n",
            "Epoch 73/1000\n",
            "31/32 [============================>.] - ETA: 0s - loss: 0.5781 - accuracy: 0.7820\n",
            "Epoch 73: saving model to model/keypoint_classifier\\keypoint_classifier.hdf5\n",
            "32/32 [==============================] - 0s 7ms/step - loss: 0.5805 - accuracy: 0.7821 - val_loss: 0.2644 - val_accuracy: 0.9400\n",
            "Epoch 74/1000\n",
            "16/32 [==============>...............] - ETA: 0s - loss: 0.5976 - accuracy: 0.7729\n",
            "Epoch 74: saving model to model/keypoint_classifier\\keypoint_classifier.hdf5\n",
            "32/32 [==============================] - 0s 7ms/step - loss: 0.5806 - accuracy: 0.7801 - val_loss: 0.2579 - val_accuracy: 0.9467\n",
            "Epoch 75/1000\n",
            "32/32 [==============================] - ETA: 0s - loss: 0.5913 - accuracy: 0.7767\n",
            "Epoch 75: saving model to model/keypoint_classifier\\keypoint_classifier.hdf5\n",
            "32/32 [==============================] - 0s 7ms/step - loss: 0.5913 - accuracy: 0.7767 - val_loss: 0.2603 - val_accuracy: 0.9407\n",
            "Epoch 76/1000\n",
            "32/32 [==============================] - ETA: 0s - loss: 0.5717 - accuracy: 0.7915\n",
            "Epoch 76: saving model to model/keypoint_classifier\\keypoint_classifier.hdf5\n",
            "32/32 [==============================] - 0s 7ms/step - loss: 0.5717 - accuracy: 0.7915 - val_loss: 0.2621 - val_accuracy: 0.9452\n",
            "Epoch 77/1000\n",
            "32/32 [==============================] - ETA: 0s - loss: 0.5618 - accuracy: 0.7784\n",
            "Epoch 77: saving model to model/keypoint_classifier\\keypoint_classifier.hdf5\n",
            "32/32 [==============================] - 0s 7ms/step - loss: 0.5618 - accuracy: 0.7784 - val_loss: 0.2528 - val_accuracy: 0.9452\n",
            "Epoch 78/1000\n",
            "31/32 [============================>.] - ETA: 0s - loss: 0.5762 - accuracy: 0.7792\n",
            "Epoch 78: saving model to model/keypoint_classifier\\keypoint_classifier.hdf5\n",
            "32/32 [==============================] - 0s 7ms/step - loss: 0.5781 - accuracy: 0.7794 - val_loss: 0.2600 - val_accuracy: 0.9370\n",
            "Epoch 79/1000\n",
            "24/32 [=====================>........] - ETA: 0s - loss: 0.5831 - accuracy: 0.7845\n",
            "Epoch 79: saving model to model/keypoint_classifier\\keypoint_classifier.hdf5\n",
            "32/32 [==============================] - 0s 8ms/step - loss: 0.5797 - accuracy: 0.7851 - val_loss: 0.2689 - val_accuracy: 0.9281\n",
            "Epoch 80/1000\n",
            "30/32 [===========================>..] - ETA: 0s - loss: 0.5688 - accuracy: 0.7810\n",
            "Epoch 80: saving model to model/keypoint_classifier\\keypoint_classifier.hdf5\n",
            "32/32 [==============================] - 0s 7ms/step - loss: 0.5750 - accuracy: 0.7794 - val_loss: 0.2580 - val_accuracy: 0.9385\n",
            "Epoch 81/1000\n",
            "32/32 [==============================] - ETA: 0s - loss: 0.5785 - accuracy: 0.7866\n",
            "Epoch 81: saving model to model/keypoint_classifier\\keypoint_classifier.hdf5\n",
            "32/32 [==============================] - 0s 7ms/step - loss: 0.5785 - accuracy: 0.7866 - val_loss: 0.2602 - val_accuracy: 0.9311\n",
            "Epoch 82/1000\n",
            "30/32 [===========================>..] - ETA: 0s - loss: 0.5537 - accuracy: 0.7896\n",
            "Epoch 82: saving model to model/keypoint_classifier\\keypoint_classifier.hdf5\n",
            "32/32 [==============================] - 0s 7ms/step - loss: 0.5611 - accuracy: 0.7871 - val_loss: 0.2512 - val_accuracy: 0.9437\n",
            "Epoch 83/1000\n",
            "31/32 [============================>.] - ETA: 0s - loss: 0.5624 - accuracy: 0.7863\n",
            "Epoch 83: saving model to model/keypoint_classifier\\keypoint_classifier.hdf5\n",
            "32/32 [==============================] - 0s 9ms/step - loss: 0.5603 - accuracy: 0.7875 - val_loss: 0.2549 - val_accuracy: 0.9407\n",
            "Epoch 84/1000\n",
            "32/32 [==============================] - ETA: 0s - loss: 0.5841 - accuracy: 0.7742\n",
            "Epoch 84: saving model to model/keypoint_classifier\\keypoint_classifier.hdf5\n",
            "32/32 [==============================] - 0s 11ms/step - loss: 0.5841 - accuracy: 0.7742 - val_loss: 0.2567 - val_accuracy: 0.9348\n",
            "Epoch 85/1000\n",
            "25/32 [======================>.......] - ETA: 0s - loss: 0.5524 - accuracy: 0.7856\n",
            "Epoch 85: saving model to model/keypoint_classifier\\keypoint_classifier.hdf5\n",
            "32/32 [==============================] - 0s 7ms/step - loss: 0.5694 - accuracy: 0.7804 - val_loss: 0.2473 - val_accuracy: 0.9452\n",
            "Epoch 86/1000\n",
            "30/32 [===========================>..] - ETA: 0s - loss: 0.5837 - accuracy: 0.7771\n",
            "Epoch 86: saving model to model/keypoint_classifier\\keypoint_classifier.hdf5\n",
            "32/32 [==============================] - 0s 7ms/step - loss: 0.5812 - accuracy: 0.7762 - val_loss: 0.2495 - val_accuracy: 0.9422\n",
            "Epoch 87/1000\n",
            "16/32 [==============>...............] - ETA: 0s - loss: 0.5738 - accuracy: 0.7773\n",
            "Epoch 87: saving model to model/keypoint_classifier\\keypoint_classifier.hdf5\n",
            "32/32 [==============================] - 0s 6ms/step - loss: 0.5630 - accuracy: 0.7811 - val_loss: 0.2481 - val_accuracy: 0.9378\n",
            "Epoch 88/1000\n",
            "16/32 [==============>...............] - ETA: 0s - loss: 0.5419 - accuracy: 0.7993\n",
            "Epoch 88: saving model to model/keypoint_classifier\\keypoint_classifier.hdf5\n",
            "32/32 [==============================] - 0s 6ms/step - loss: 0.5598 - accuracy: 0.7863 - val_loss: 0.2523 - val_accuracy: 0.9319\n",
            "Epoch 89/1000\n",
            "25/32 [======================>.......] - ETA: 0s - loss: 0.5827 - accuracy: 0.7766\n",
            "Epoch 89: saving model to model/keypoint_classifier\\keypoint_classifier.hdf5\n",
            "32/32 [==============================] - 0s 10ms/step - loss: 0.5747 - accuracy: 0.7841 - val_loss: 0.2486 - val_accuracy: 0.9444\n",
            "Epoch 90/1000\n",
            "31/32 [============================>.] - ETA: 0s - loss: 0.5504 - accuracy: 0.7956\n",
            "Epoch 90: saving model to model/keypoint_classifier\\keypoint_classifier.hdf5\n",
            "32/32 [==============================] - 0s 7ms/step - loss: 0.5495 - accuracy: 0.7955 - val_loss: 0.2516 - val_accuracy: 0.9385\n",
            "Epoch 91/1000\n",
            "30/32 [===========================>..] - ETA: 0s - loss: 0.5806 - accuracy: 0.7784\n",
            "Epoch 91: saving model to model/keypoint_classifier\\keypoint_classifier.hdf5\n",
            "32/32 [==============================] - 0s 7ms/step - loss: 0.5790 - accuracy: 0.7792 - val_loss: 0.2485 - val_accuracy: 0.9415\n",
            "Epoch 92/1000\n",
            "32/32 [==============================] - ETA: 0s - loss: 0.5517 - accuracy: 0.7922\n",
            "Epoch 92: saving model to model/keypoint_classifier\\keypoint_classifier.hdf5\n",
            "32/32 [==============================] - 0s 7ms/step - loss: 0.5517 - accuracy: 0.7922 - val_loss: 0.2475 - val_accuracy: 0.9348\n",
            "Epoch 93/1000\n",
            "30/32 [===========================>..] - ETA: 0s - loss: 0.5611 - accuracy: 0.7828\n",
            "Epoch 93: saving model to model/keypoint_classifier\\keypoint_classifier.hdf5\n",
            "32/32 [==============================] - 0s 7ms/step - loss: 0.5627 - accuracy: 0.7833 - val_loss: 0.2504 - val_accuracy: 0.9400\n",
            "Epoch 94/1000\n",
            "26/32 [=======================>......] - ETA: 0s - loss: 0.5627 - accuracy: 0.7897\n",
            "Epoch 94: saving model to model/keypoint_classifier\\keypoint_classifier.hdf5\n",
            "32/32 [==============================] - 0s 8ms/step - loss: 0.5622 - accuracy: 0.7888 - val_loss: 0.2475 - val_accuracy: 0.9422\n",
            "Epoch 95/1000\n",
            "31/32 [============================>.] - ETA: 0s - loss: 0.5493 - accuracy: 0.8014\n",
            "Epoch 95: saving model to model/keypoint_classifier\\keypoint_classifier.hdf5\n",
            "32/32 [==============================] - 0s 7ms/step - loss: 0.5475 - accuracy: 0.8019 - val_loss: 0.2423 - val_accuracy: 0.9407\n",
            "Epoch 96/1000\n",
            "32/32 [==============================] - ETA: 0s - loss: 0.5462 - accuracy: 0.7942\n",
            "Epoch 96: saving model to model/keypoint_classifier\\keypoint_classifier.hdf5\n",
            "32/32 [==============================] - 0s 7ms/step - loss: 0.5462 - accuracy: 0.7942 - val_loss: 0.2439 - val_accuracy: 0.9356\n",
            "Epoch 97/1000\n",
            "31/32 [============================>.] - ETA: 0s - loss: 0.5592 - accuracy: 0.7951\n",
            "Epoch 97: saving model to model/keypoint_classifier\\keypoint_classifier.hdf5\n",
            "32/32 [==============================] - 0s 7ms/step - loss: 0.5569 - accuracy: 0.7957 - val_loss: 0.2426 - val_accuracy: 0.9393\n",
            "Epoch 98/1000\n",
            "31/32 [============================>.] - ETA: 0s - loss: 0.5640 - accuracy: 0.7931\n",
            "Epoch 98: saving model to model/keypoint_classifier\\keypoint_classifier.hdf5\n",
            "32/32 [==============================] - 0s 7ms/step - loss: 0.5610 - accuracy: 0.7947 - val_loss: 0.2508 - val_accuracy: 0.9348\n",
            "Epoch 99/1000\n",
            "31/32 [============================>.] - ETA: 0s - loss: 0.5695 - accuracy: 0.7918\n",
            "Epoch 99: saving model to model/keypoint_classifier\\keypoint_classifier.hdf5\n",
            "32/32 [==============================] - 0s 7ms/step - loss: 0.5671 - accuracy: 0.7922 - val_loss: 0.2490 - val_accuracy: 0.9385\n",
            "Epoch 100/1000\n",
            "32/32 [==============================] - ETA: 0s - loss: 0.5460 - accuracy: 0.7932\n",
            "Epoch 100: saving model to model/keypoint_classifier\\keypoint_classifier.hdf5\n",
            "32/32 [==============================] - 0s 7ms/step - loss: 0.5460 - accuracy: 0.7932 - val_loss: 0.2486 - val_accuracy: 0.9356\n",
            "Epoch 101/1000\n",
            "32/32 [==============================] - ETA: 0s - loss: 0.5551 - accuracy: 0.7915\n",
            "Epoch 101: saving model to model/keypoint_classifier\\keypoint_classifier.hdf5\n",
            "32/32 [==============================] - 0s 7ms/step - loss: 0.5551 - accuracy: 0.7915 - val_loss: 0.2425 - val_accuracy: 0.9385\n",
            "Epoch 102/1000\n",
            "32/32 [==============================] - ETA: 0s - loss: 0.5630 - accuracy: 0.7836\n",
            "Epoch 102: saving model to model/keypoint_classifier\\keypoint_classifier.hdf5\n",
            "32/32 [==============================] - 0s 7ms/step - loss: 0.5630 - accuracy: 0.7836 - val_loss: 0.2413 - val_accuracy: 0.9481\n",
            "Epoch 103/1000\n",
            "31/32 [============================>.] - ETA: 0s - loss: 0.5667 - accuracy: 0.7888\n",
            "Epoch 103: saving model to model/keypoint_classifier\\keypoint_classifier.hdf5\n",
            "32/32 [==============================] - 0s 7ms/step - loss: 0.5651 - accuracy: 0.7895 - val_loss: 0.2515 - val_accuracy: 0.9333\n",
            "Epoch 104/1000\n",
            "27/32 [========================>.....] - ETA: 0s - loss: 0.5308 - accuracy: 0.7934\n",
            "Epoch 104: saving model to model/keypoint_classifier\\keypoint_classifier.hdf5\n",
            "32/32 [==============================] - 0s 11ms/step - loss: 0.5383 - accuracy: 0.7932 - val_loss: 0.2389 - val_accuracy: 0.9459\n",
            "Epoch 105/1000\n",
            "21/32 [==================>...........] - ETA: 0s - loss: 0.5599 - accuracy: 0.7932\n",
            "Epoch 105: saving model to model/keypoint_classifier\\keypoint_classifier.hdf5\n",
            "32/32 [==============================] - 0s 11ms/step - loss: 0.5496 - accuracy: 0.7952 - val_loss: 0.2425 - val_accuracy: 0.9422\n",
            "Epoch 106/1000\n",
            "32/32 [==============================] - ETA: 0s - loss: 0.5633 - accuracy: 0.7843\n",
            "Epoch 106: saving model to model/keypoint_classifier\\keypoint_classifier.hdf5\n",
            "32/32 [==============================] - 0s 8ms/step - loss: 0.5633 - accuracy: 0.7843 - val_loss: 0.2439 - val_accuracy: 0.9378\n",
            "Epoch 107/1000\n",
            "30/32 [===========================>..] - ETA: 0s - loss: 0.5448 - accuracy: 0.7906\n",
            "Epoch 107: saving model to model/keypoint_classifier\\keypoint_classifier.hdf5\n",
            "32/32 [==============================] - 0s 7ms/step - loss: 0.5454 - accuracy: 0.7913 - val_loss: 0.2443 - val_accuracy: 0.9363\n",
            "Epoch 108/1000\n",
            "32/32 [==============================] - ETA: 0s - loss: 0.5165 - accuracy: 0.8034\n",
            "Epoch 108: saving model to model/keypoint_classifier\\keypoint_classifier.hdf5\n",
            "32/32 [==============================] - 0s 7ms/step - loss: 0.5165 - accuracy: 0.8034 - val_loss: 0.2350 - val_accuracy: 0.9407\n",
            "Epoch 109/1000\n",
            "17/32 [==============>...............] - ETA: 0s - loss: 0.5557 - accuracy: 0.7923\n",
            "Epoch 109: saving model to model/keypoint_classifier\\keypoint_classifier.hdf5\n",
            "32/32 [==============================] - 0s 6ms/step - loss: 0.5551 - accuracy: 0.7908 - val_loss: 0.2405 - val_accuracy: 0.9348\n",
            "Epoch 110/1000\n",
            "32/32 [==============================] - ETA: 0s - loss: 0.5531 - accuracy: 0.7989\n",
            "Epoch 110: saving model to model/keypoint_classifier\\keypoint_classifier.hdf5\n",
            "32/32 [==============================] - 0s 7ms/step - loss: 0.5531 - accuracy: 0.7989 - val_loss: 0.2354 - val_accuracy: 0.9407\n",
            "Epoch 111/1000\n",
            "16/32 [==============>...............] - ETA: 0s - loss: 0.5335 - accuracy: 0.8013\n",
            "Epoch 111: saving model to model/keypoint_classifier\\keypoint_classifier.hdf5\n",
            "32/32 [==============================] - 0s 7ms/step - loss: 0.5296 - accuracy: 0.8011 - val_loss: 0.2378 - val_accuracy: 0.9363\n",
            "Epoch 112/1000\n",
            "29/32 [==========================>...] - ETA: 0s - loss: 0.5487 - accuracy: 0.7980\n",
            "Epoch 112: saving model to model/keypoint_classifier\\keypoint_classifier.hdf5\n",
            "32/32 [==============================] - 0s 9ms/step - loss: 0.5493 - accuracy: 0.7992 - val_loss: 0.2334 - val_accuracy: 0.9444\n",
            "Epoch 113/1000\n",
            "30/32 [===========================>..] - ETA: 0s - loss: 0.5438 - accuracy: 0.7948\n",
            "Epoch 113: saving model to model/keypoint_classifier\\keypoint_classifier.hdf5\n",
            "32/32 [==============================] - 0s 7ms/step - loss: 0.5403 - accuracy: 0.7950 - val_loss: 0.2326 - val_accuracy: 0.9407\n",
            "Epoch 114/1000\n",
            "16/32 [==============>...............] - ETA: 0s - loss: 0.5175 - accuracy: 0.8130\n",
            "Epoch 114: saving model to model/keypoint_classifier\\keypoint_classifier.hdf5\n",
            "32/32 [==============================] - 0s 6ms/step - loss: 0.5302 - accuracy: 0.8011 - val_loss: 0.2361 - val_accuracy: 0.9407\n",
            "Epoch 115/1000\n",
            "32/32 [==============================] - ETA: 0s - loss: 0.5271 - accuracy: 0.7987\n",
            "Epoch 115: saving model to model/keypoint_classifier\\keypoint_classifier.hdf5\n",
            "32/32 [==============================] - 0s 7ms/step - loss: 0.5271 - accuracy: 0.7987 - val_loss: 0.2393 - val_accuracy: 0.9311\n",
            "Epoch 116/1000\n",
            "32/32 [==============================] - ETA: 0s - loss: 0.5144 - accuracy: 0.8066\n",
            "Epoch 116: saving model to model/keypoint_classifier\\keypoint_classifier.hdf5\n",
            "32/32 [==============================] - 0s 7ms/step - loss: 0.5144 - accuracy: 0.8066 - val_loss: 0.2384 - val_accuracy: 0.9378\n",
            "Epoch 117/1000\n",
            "31/32 [============================>.] - ETA: 0s - loss: 0.5297 - accuracy: 0.8027\n",
            "Epoch 117: saving model to model/keypoint_classifier\\keypoint_classifier.hdf5\n",
            "32/32 [==============================] - 0s 7ms/step - loss: 0.5309 - accuracy: 0.8016 - val_loss: 0.2403 - val_accuracy: 0.9341\n",
            "Epoch 118/1000\n",
            "32/32 [==============================] - ETA: 0s - loss: 0.5452 - accuracy: 0.7915\n",
            "Epoch 118: saving model to model/keypoint_classifier\\keypoint_classifier.hdf5\n",
            "32/32 [==============================] - 0s 8ms/step - loss: 0.5452 - accuracy: 0.7915 - val_loss: 0.2374 - val_accuracy: 0.9407\n",
            "Epoch 119/1000\n",
            "18/32 [===============>..............] - ETA: 0s - loss: 0.5124 - accuracy: 0.8051\n",
            "Epoch 119: saving model to model/keypoint_classifier\\keypoint_classifier.hdf5\n",
            "32/32 [==============================] - 0s 8ms/step - loss: 0.5267 - accuracy: 0.8019 - val_loss: 0.2352 - val_accuracy: 0.9422\n",
            "Epoch 120/1000\n",
            "17/32 [==============>...............] - ETA: 0s - loss: 0.5390 - accuracy: 0.7955\n",
            "Epoch 120: saving model to model/keypoint_classifier\\keypoint_classifier.hdf5\n",
            "32/32 [==============================] - 0s 6ms/step - loss: 0.5119 - accuracy: 0.8058 - val_loss: 0.2296 - val_accuracy: 0.9504\n",
            "Epoch 121/1000\n",
            "31/32 [============================>.] - ETA: 0s - loss: 0.5245 - accuracy: 0.8042\n",
            "Epoch 121: saving model to model/keypoint_classifier\\keypoint_classifier.hdf5\n",
            "32/32 [==============================] - 0s 7ms/step - loss: 0.5270 - accuracy: 0.8036 - val_loss: 0.2334 - val_accuracy: 0.9430\n",
            "Epoch 122/1000\n",
            "17/32 [==============>...............] - ETA: 0s - loss: 0.4981 - accuracy: 0.8203\n",
            "Epoch 122: saving model to model/keypoint_classifier\\keypoint_classifier.hdf5\n",
            "32/32 [==============================] - 0s 7ms/step - loss: 0.5203 - accuracy: 0.8071 - val_loss: 0.2250 - val_accuracy: 0.9474\n",
            "Epoch 123/1000\n",
            "16/32 [==============>...............] - ETA: 0s - loss: 0.5334 - accuracy: 0.8086\n",
            "Epoch 123: saving model to model/keypoint_classifier\\keypoint_classifier.hdf5\n",
            "32/32 [==============================] - 0s 6ms/step - loss: 0.5278 - accuracy: 0.8043 - val_loss: 0.2277 - val_accuracy: 0.9489\n",
            "Epoch 124/1000\n",
            "32/32 [==============================] - ETA: 0s - loss: 0.5374 - accuracy: 0.7964\n",
            "Epoch 124: saving model to model/keypoint_classifier\\keypoint_classifier.hdf5\n",
            "32/32 [==============================] - 0s 7ms/step - loss: 0.5374 - accuracy: 0.7964 - val_loss: 0.2332 - val_accuracy: 0.9415\n",
            "Epoch 125/1000\n",
            "20/32 [=================>............] - ETA: 0s - loss: 0.5206 - accuracy: 0.7980\n",
            "Epoch 125: saving model to model/keypoint_classifier\\keypoint_classifier.hdf5\n",
            "32/32 [==============================] - 0s 10ms/step - loss: 0.5269 - accuracy: 0.7989 - val_loss: 0.2326 - val_accuracy: 0.9496\n",
            "Epoch 126/1000\n",
            "28/32 [=========================>....] - ETA: 0s - loss: 0.5510 - accuracy: 0.7913\n",
            "Epoch 126: saving model to model/keypoint_classifier\\keypoint_classifier.hdf5\n",
            "32/32 [==============================] - 0s 11ms/step - loss: 0.5449 - accuracy: 0.7935 - val_loss: 0.2334 - val_accuracy: 0.9459\n",
            "Epoch 127/1000\n",
            "17/32 [==============>...............] - ETA: 0s - loss: 0.5097 - accuracy: 0.8065\n",
            "Epoch 127: saving model to model/keypoint_classifier\\keypoint_classifier.hdf5\n",
            "32/32 [==============================] - 0s 6ms/step - loss: 0.5200 - accuracy: 0.8034 - val_loss: 0.2266 - val_accuracy: 0.9489\n",
            "Epoch 128/1000\n",
            "32/32 [==============================] - ETA: 0s - loss: 0.5242 - accuracy: 0.7997\n",
            "Epoch 128: saving model to model/keypoint_classifier\\keypoint_classifier.hdf5\n",
            "32/32 [==============================] - 0s 7ms/step - loss: 0.5242 - accuracy: 0.7997 - val_loss: 0.2307 - val_accuracy: 0.9437\n",
            "Epoch 129/1000\n",
            "31/32 [============================>.] - ETA: 0s - loss: 0.5385 - accuracy: 0.7971\n",
            "Epoch 129: saving model to model/keypoint_classifier\\keypoint_classifier.hdf5\n",
            "32/32 [==============================] - 0s 7ms/step - loss: 0.5388 - accuracy: 0.7972 - val_loss: 0.2259 - val_accuracy: 0.9444\n",
            "Epoch 130/1000\n",
            "31/32 [============================>.] - ETA: 0s - loss: 0.4965 - accuracy: 0.8128\n",
            "Epoch 130: saving model to model/keypoint_classifier\\keypoint_classifier.hdf5\n",
            "32/32 [==============================] - 0s 7ms/step - loss: 0.4974 - accuracy: 0.8123 - val_loss: 0.2283 - val_accuracy: 0.9444\n",
            "Epoch 131/1000\n",
            "16/32 [==============>...............] - ETA: 0s - loss: 0.5217 - accuracy: 0.8062\n",
            "Epoch 131: saving model to model/keypoint_classifier\\keypoint_classifier.hdf5\n",
            "32/32 [==============================] - 0s 6ms/step - loss: 0.5046 - accuracy: 0.8108 - val_loss: 0.2245 - val_accuracy: 0.9467\n",
            "Epoch 132/1000\n",
            "29/32 [==========================>...] - ETA: 0s - loss: 0.5083 - accuracy: 0.8058\n",
            "Epoch 132: saving model to model/keypoint_classifier\\keypoint_classifier.hdf5\n",
            "32/32 [==============================] - 0s 10ms/step - loss: 0.5115 - accuracy: 0.8043 - val_loss: 0.2218 - val_accuracy: 0.9504\n",
            "Epoch 133/1000\n",
            "16/32 [==============>...............] - ETA: 0s - loss: 0.5039 - accuracy: 0.8071\n",
            "Epoch 133: saving model to model/keypoint_classifier\\keypoint_classifier.hdf5\n",
            "32/32 [==============================] - 0s 7ms/step - loss: 0.5183 - accuracy: 0.8039 - val_loss: 0.2190 - val_accuracy: 0.9563\n",
            "Epoch 134/1000\n",
            "16/32 [==============>...............] - ETA: 0s - loss: 0.5302 - accuracy: 0.7964\n",
            "Epoch 134: saving model to model/keypoint_classifier\\keypoint_classifier.hdf5\n",
            "32/32 [==============================] - 0s 7ms/step - loss: 0.5361 - accuracy: 0.7979 - val_loss: 0.2247 - val_accuracy: 0.9467\n",
            "Epoch 135/1000\n",
            "16/32 [==============>...............] - ETA: 0s - loss: 0.5587 - accuracy: 0.7954\n",
            "Epoch 135: saving model to model/keypoint_classifier\\keypoint_classifier.hdf5\n",
            "32/32 [==============================] - 0s 7ms/step - loss: 0.5432 - accuracy: 0.7979 - val_loss: 0.2310 - val_accuracy: 0.9563\n",
            "Epoch 136/1000\n",
            "32/32 [==============================] - ETA: 0s - loss: 0.5327 - accuracy: 0.7972\n",
            "Epoch 136: saving model to model/keypoint_classifier\\keypoint_classifier.hdf5\n",
            "32/32 [==============================] - 0s 7ms/step - loss: 0.5327 - accuracy: 0.7972 - val_loss: 0.2374 - val_accuracy: 0.9444\n",
            "Epoch 137/1000\n",
            "31/32 [============================>.] - ETA: 0s - loss: 0.5131 - accuracy: 0.8112\n",
            "Epoch 137: saving model to model/keypoint_classifier\\keypoint_classifier.hdf5\n",
            "32/32 [==============================] - 0s 7ms/step - loss: 0.5139 - accuracy: 0.8103 - val_loss: 0.2281 - val_accuracy: 0.9511\n",
            "Epoch 138/1000\n",
            "18/32 [===============>..............] - ETA: 0s - loss: 0.5282 - accuracy: 0.7886\n",
            "Epoch 138: saving model to model/keypoint_classifier\\keypoint_classifier.hdf5\n",
            "32/32 [==============================] - 0s 6ms/step - loss: 0.5236 - accuracy: 0.7989 - val_loss: 0.2306 - val_accuracy: 0.9489\n",
            "Epoch 139/1000\n",
            "27/32 [========================>.....] - ETA: 0s - loss: 0.5278 - accuracy: 0.8018\n",
            "Epoch 139: saving model to model/keypoint_classifier\\keypoint_classifier.hdf5\n",
            "32/32 [==============================] - 0s 7ms/step - loss: 0.5301 - accuracy: 0.8011 - val_loss: 0.2298 - val_accuracy: 0.9519\n",
            "Epoch 140/1000\n",
            "27/32 [========================>.....] - ETA: 0s - loss: 0.5277 - accuracy: 0.7980\n",
            "Epoch 140: saving model to model/keypoint_classifier\\keypoint_classifier.hdf5\n",
            "32/32 [==============================] - 0s 7ms/step - loss: 0.5235 - accuracy: 0.8006 - val_loss: 0.2296 - val_accuracy: 0.9400\n",
            "Epoch 141/1000\n",
            "24/32 [=====================>........] - ETA: 0s - loss: 0.5272 - accuracy: 0.8047\n",
            "Epoch 141: saving model to model/keypoint_classifier\\keypoint_classifier.hdf5\n",
            "32/32 [==============================] - 0s 8ms/step - loss: 0.5238 - accuracy: 0.8039 - val_loss: 0.2266 - val_accuracy: 0.9600\n",
            "Epoch 142/1000\n",
            "32/32 [==============================] - ETA: 0s - loss: 0.5349 - accuracy: 0.8016\n",
            "Epoch 142: saving model to model/keypoint_classifier\\keypoint_classifier.hdf5\n",
            "32/32 [==============================] - 0s 7ms/step - loss: 0.5349 - accuracy: 0.8016 - val_loss: 0.2385 - val_accuracy: 0.9452\n",
            "Epoch 143/1000\n",
            "19/32 [================>.............] - ETA: 0s - loss: 0.5337 - accuracy: 0.8010\n",
            "Epoch 143: saving model to model/keypoint_classifier\\keypoint_classifier.hdf5\n",
            "32/32 [==============================] - 0s 7ms/step - loss: 0.5396 - accuracy: 0.7955 - val_loss: 0.2325 - val_accuracy: 0.9570\n",
            "Epoch 144/1000\n",
            "16/32 [==============>...............] - ETA: 0s - loss: 0.5251 - accuracy: 0.8013\n",
            "Epoch 144: saving model to model/keypoint_classifier\\keypoint_classifier.hdf5\n",
            "32/32 [==============================] - 0s 7ms/step - loss: 0.5205 - accuracy: 0.8001 - val_loss: 0.2286 - val_accuracy: 0.9437\n",
            "Epoch 145/1000\n",
            "29/32 [==========================>...] - ETA: 0s - loss: 0.5291 - accuracy: 0.8015\n",
            "Epoch 145: saving model to model/keypoint_classifier\\keypoint_classifier.hdf5\n",
            "32/32 [==============================] - 0s 7ms/step - loss: 0.5223 - accuracy: 0.8021 - val_loss: 0.2260 - val_accuracy: 0.9452\n",
            "Epoch 146/1000\n",
            "22/32 [===================>..........] - ETA: 0s - loss: 0.5343 - accuracy: 0.8004\n",
            "Epoch 146: saving model to model/keypoint_classifier\\keypoint_classifier.hdf5\n",
            "32/32 [==============================] - 0s 10ms/step - loss: 0.5250 - accuracy: 0.8058 - val_loss: 0.2323 - val_accuracy: 0.9407\n",
            "Epoch 147/1000\n",
            "26/32 [=======================>......] - ETA: 0s - loss: 0.5152 - accuracy: 0.7996\n",
            "Epoch 147: saving model to model/keypoint_classifier\\keypoint_classifier.hdf5\n",
            "32/32 [==============================] - 0s 10ms/step - loss: 0.5269 - accuracy: 0.7957 - val_loss: 0.2298 - val_accuracy: 0.9459\n",
            "Epoch 148/1000\n",
            "26/32 [=======================>......] - ETA: 0s - loss: 0.5364 - accuracy: 0.7969\n",
            "Epoch 148: saving model to model/keypoint_classifier\\keypoint_classifier.hdf5\n",
            "32/32 [==============================] - 0s 7ms/step - loss: 0.5299 - accuracy: 0.7992 - val_loss: 0.2394 - val_accuracy: 0.9341\n",
            "Epoch 149/1000\n",
            "27/32 [========================>.....] - ETA: 0s - loss: 0.5196 - accuracy: 0.8021\n",
            "Epoch 149: saving model to model/keypoint_classifier\\keypoint_classifier.hdf5\n",
            "32/32 [==============================] - 0s 7ms/step - loss: 0.5198 - accuracy: 0.8031 - val_loss: 0.2281 - val_accuracy: 0.9570\n",
            "Epoch 150/1000\n",
            "27/32 [========================>.....] - ETA: 0s - loss: 0.5343 - accuracy: 0.7977\n",
            "Epoch 150: saving model to model/keypoint_classifier\\keypoint_classifier.hdf5\n",
            "32/32 [==============================] - 0s 7ms/step - loss: 0.5350 - accuracy: 0.7957 - val_loss: 0.2296 - val_accuracy: 0.9474\n",
            "Epoch 151/1000\n",
            "31/32 [============================>.] - ETA: 0s - loss: 0.4975 - accuracy: 0.8100\n",
            "Epoch 151: saving model to model/keypoint_classifier\\keypoint_classifier.hdf5\n",
            "32/32 [==============================] - 0s 8ms/step - loss: 0.4973 - accuracy: 0.8108 - val_loss: 0.2288 - val_accuracy: 0.9504\n",
            "Epoch 152/1000\n",
            "19/32 [================>.............] - ETA: 0s - loss: 0.5321 - accuracy: 0.8002\n",
            "Epoch 152: saving model to model/keypoint_classifier\\keypoint_classifier.hdf5\n",
            "32/32 [==============================] - 0s 6ms/step - loss: 0.5286 - accuracy: 0.7964 - val_loss: 0.2230 - val_accuracy: 0.9519\n",
            "Epoch 153/1000\n",
            "31/32 [============================>.] - ETA: 0s - loss: 0.5143 - accuracy: 0.8029\n",
            "Epoch 153: saving model to model/keypoint_classifier\\keypoint_classifier.hdf5\n",
            "32/32 [==============================] - 0s 7ms/step - loss: 0.5142 - accuracy: 0.8039 - val_loss: 0.2256 - val_accuracy: 0.9452\n",
            "Epoch 153: early stopping\n"
          ]
        },
        {
          "data": {
            "text/plain": [
              "<keras.src.callbacks.History at 0x28c6cb2fee0>"
            ]
          },
          "execution_count": 34,
          "metadata": {},
          "output_type": "execute_result"
        }
      ],
      "source": [
        "model.fit(\n",
        "    X_train,\n",
        "    y_train,\n",
        "    epochs=1000,\n",
        "    batch_size=128,\n",
        "    validation_data=(X_test, y_test),\n",
        "    callbacks=[cp_callback, es_callback]\n",
        ")"
      ]
    },
    {
      "cell_type": "code",
      "execution_count": 35,
      "metadata": {
        "colab": {
          "base_uri": "https://localhost:8080/"
        },
        "id": "pxvb2Y299hE3",
        "outputId": "59eb3185-2e37-4b9e-bc9d-ab1b8ac29b7f"
      },
      "outputs": [
        {
          "name": "stdout",
          "output_type": "stream",
          "text": [
            "11/11 [==============================] - 0s 4ms/step - loss: 0.2256 - accuracy: 0.9452\n"
          ]
        }
      ],
      "source": [
        "# Model evaluation\n",
        "val_loss, val_acc = model.evaluate(X_test, y_test, batch_size=128)"
      ]
    },
    {
      "cell_type": "code",
      "execution_count": 36,
      "metadata": {
        "id": "RBkmDeUW9hE4"
      },
      "outputs": [],
      "source": [
        "# Loading the saved model\n",
        "model = tf.keras.models.load_model(model_save_path)"
      ]
    },
    {
      "cell_type": "code",
      "execution_count": 37,
      "metadata": {
        "colab": {
          "base_uri": "https://localhost:8080/"
        },
        "id": "tFz9Tb0I9hE4",
        "outputId": "1c3b3528-54ae-4ee2-ab04-77429211cbef"
      },
      "outputs": [
        {
          "name": "stdout",
          "output_type": "stream",
          "text": [
            "1/1 [==============================] - 0s 103ms/step\n",
            "[3.3356238e-02 2.8957272e-01 6.7653489e-01 5.0023542e-04 3.5931382e-05]\n",
            "2\n"
          ]
        }
      ],
      "source": [
        "# Inference test\n",
        "predict_result = model.predict(np.array([X_test[0]]))\n",
        "print(np.squeeze(predict_result))\n",
        "print(np.argmax(np.squeeze(predict_result)))"
      ]
    },
    {
      "cell_type": "markdown",
      "metadata": {
        "id": "S3U4yNWx9hE4"
      },
      "source": [
        "# Confusion matrix"
      ]
    },
    {
      "cell_type": "code",
      "execution_count": 39,
      "metadata": {
        "colab": {
          "base_uri": "https://localhost:8080/",
          "height": 582
        },
        "id": "AP1V6SCk9hE5",
        "outputId": "08e41a80-7a4a-4619-8125-ecc371368d19"
      },
      "outputs": [
        {
          "name": "stdout",
          "output_type": "stream",
          "text": [
            "43/43 [==============================] - 0s 3ms/step\n"
          ]
        },
        {
          "data": {
            "image/png": "[encoded data removed]",
            "text/plain": [
              "<Figure size 700x600 with 2 Axes>"
            ]
          },
          "metadata": {},
          "output_type": "display_data"
        },
        {
          "name": "stdout",
          "output_type": "stream",
          "text": [
            "Classification Report\n",
            "              precision    recall  f1-score   support\n",
            "\n",
            "           0       0.98      0.97      0.97       405\n",
            "           1       0.99      0.89      0.93       383\n",
            "           2       0.88      0.96      0.92       331\n",
            "           3       0.90      0.99      0.94        85\n",
            "           4       0.94      0.99      0.96       146\n",
            "\n",
            "    accuracy                           0.95      1350\n",
            "   macro avg       0.94      0.96      0.95      1350\n",
            "weighted avg       0.95      0.95      0.95      1350\n",
            "\n"
          ]
        }
      ],
      "source": [
        "import pandas as pd\n",
        "import seaborn as sns\n",
        "import matplotlib.pyplot as plt\n",
        "from sklearn.metrics import confusion_matrix, classification_report\n",
        "\n",
        "def print_confusion_matrix(y_true, y_pred, report=True):\n",
        "    labels = sorted(list(set(y_true)))\n",
        "    cmx_data = confusion_matrix(y_true, y_pred, labels=labels)\n",
        "    \n",
        "    df_cmx = pd.DataFrame(cmx_data, index=labels, columns=labels)\n",
        " \n",
        "    fig, ax = plt.subplots(figsize=(7, 6))\n",
        "    sns.heatmap(df_cmx, annot=True, fmt='g' ,square=False)\n",
        "    ax.set_ylim(len(set(y_true)), 0)\n",
        "    plt.show()\n",
        "    \n",
        "    if report:\n",
        "        print('Classification Report')\n",
        "        print(classification_report(y_test, y_pred))\n",
        "\n",
        "Y_pred = model.predict(X_test)\n",
        "y_pred = np.argmax(Y_pred, axis=1)\n",
        "\n",
        "print_confusion_matrix(y_test, y_pred)"
      ]
    },
    {
      "cell_type": "markdown",
      "metadata": {
        "id": "FNP6aqzc9hE5"
      },
      "source": [
        "# Convert to model for Tensorflow-Lite"
      ]
    },
    {
      "cell_type": "code",
      "execution_count": 40,
      "metadata": {
        "id": "ODjnYyld9hE6"
      },
      "outputs": [
        {
          "name": "stderr",
          "output_type": "stream",
          "text": [
            "c:\\Users\\LENOVO\\AppData\\Local\\Programs\\Python\\Python39\\lib\\site-packages\\keras\\src\\engine\\training.py:3103: UserWarning: You are saving your model as an HDF5 file via `model.save()`. This file format is considered legacy. We recommend using instead the native Keras format, e.g. `model.save('my_model.keras')`.\n",
            "  saving_api.save_model(\n"
          ]
        }
      ],
      "source": [
        "# Save as a model dedicated to inference\n",
        "model.save(model_save_path, include_optimizer=False)"
      ]
    },
    {
      "cell_type": "code",
      "execution_count": 41,
      "metadata": {
        "colab": {
          "base_uri": "https://localhost:8080/"
        },
        "id": "zRfuK8Y59hE6",
        "outputId": "a4ca585c-b5d5-4244-8291-8674063209bb"
      },
      "outputs": [
        {
          "name": "stdout",
          "output_type": "stream",
          "text": [
            "INFO:tensorflow:Assets written to: C:\\Users\\LENOVO\\AppData\\Local\\Temp\\tmpugfwyn4h\\assets\n"
          ]
        },
        {
          "name": "stderr",
          "output_type": "stream",
          "text": [
            "INFO:tensorflow:Assets written to: C:\\Users\\LENOVO\\AppData\\Local\\Temp\\tmpugfwyn4h\\assets\n"
          ]
        },
        {
          "data": {
            "text/plain": [
              "6616"
            ]
          },
          "execution_count": 41,
          "metadata": {},
          "output_type": "execute_result"
        }
      ],
      "source": [
        "# Transform model (quantization)\n",
        "\n",
        "converter = tf.lite.TFLiteConverter.from_keras_model(model)\n",
        "converter.optimizations = [tf.lite.Optimize.DEFAULT]\n",
        "tflite_quantized_model = converter.convert()\n",
        "\n",
        "open(tflite_save_path, 'wb').write(tflite_quantized_model)"
      ]
    },
    {
      "cell_type": "markdown",
      "metadata": {
        "id": "CHBPBXdx9hE6"
      },
      "source": [
        "# Inference test"
      ]
    },
    {
      "cell_type": "code",
      "execution_count": 42,
      "metadata": {
        "id": "mGAzLocO9hE7"
      },
      "outputs": [],
      "source": [
        "interpreter = tf.lite.Interpreter(model_path=tflite_save_path)\n",
        "interpreter.allocate_tensors()"
      ]
    },
    {
      "cell_type": "code",
      "execution_count": 43,
      "metadata": {
        "id": "oQuDK8YS9hE7"
      },
      "outputs": [],
      "source": [
        "# Get I / O tensor\n",
        "input_details = interpreter.get_input_details()\n",
        "output_details = interpreter.get_output_details()"
      ]
    },
    {
      "cell_type": "code",
      "execution_count": 21,
      "metadata": {
        "id": "2_ixAf_l9hE7"
      },
      "outputs": [],
      "source": [
        "interpreter.set_tensor(input_details[0]['index'], np.array([X_test[0]]))"
      ]
    },
    {
      "cell_type": "code",
      "execution_count": 44,
      "metadata": {
        "colab": {
          "base_uri": "https://localhost:8080/"
        },
        "id": "s4FoAnuc9hE7",
        "outputId": "91f18257-8d8b-4ef3-c558-e9b5f94fabbf",
        "scrolled": true
      },
      "outputs": [
        {
          "name": "stdout",
          "output_type": "stream",
          "text": [
            "CPU times: total: 0 ns\n",
            "Wall time: 0 ns\n"
          ]
        }
      ],
      "source": [
        "%%time\n",
        "# Inference implementation\n",
        "interpreter.invoke()\n",
        "tflite_results = interpreter.get_tensor(output_details[0]['index'])"
      ]
    },
    {
      "cell_type": "code",
      "execution_count": 45,
      "metadata": {
        "colab": {
          "base_uri": "https://localhost:8080/"
        },
        "id": "vONjp19J9hE8",
        "outputId": "77205e24-fd00-42c4-f7b6-e06e527c2cba"
      },
      "outputs": [
        {
          "name": "stdout",
          "output_type": "stream",
          "text": [
            "[nan nan nan nan nan]\n",
            "0\n"
          ]
        }
      ],
      "source": [
        "print(np.squeeze(tflite_results))\n",
        "print(np.argmax(np.squeeze(tflite_results)))"
      ]
    }
  ],
  "metadata": {
    "accelerator": "GPU",
    "colab": {
      "collapsed_sections": [],
      "name": "keypoint_classification_EN.ipynb",
      "provenance": [],
      "toc_visible": true
    },
    "kernelspec": {
      "display_name": "Python 3",
      "language": "python",
      "name": "python3"
    },
    "language_info": {
      "codemirror_mode": {
        "name": "ipython",
        "version": 3
      },
      "file_extension": ".py",
      "mimetype": "text/x-python",
      "name": "python",
      "nbconvert_exporter": "python",
      "pygments_lexer": "ipython3",
      "version": "3.11.4"
    }
  },
  "nbformat": 4,
  "nbformat_minor": 0
}
